{
 "cells": [
  {
   "cell_type": "code",
   "execution_count": 2,
   "id": "da983e7e",
   "metadata": {},
   "outputs": [],
   "source": [
    "def valid(lab,x,y,visited):\n",
    "     return 0 <= x < len(lab[0]) and 0 <= y < len(lab[0]) and [x,y] not in visited and (lab[x][y]==0 or lab[x][y]=='G')"
   ]
  },
  {
   "cell_type": "code",
   "execution_count": 3,
   "id": "52281e2e",
   "metadata": {},
   "outputs": [],
   "source": [
    "def vecinos(lab,p,visited,n):\n",
    "    vecinos=[]\n",
    "    pr=[p[0],p[1]+1]\n",
    "    pl=[p[0],p[1]-1]\n",
    "    pu=[p[0]-1,p[1]]\n",
    "    pd=[p[0]+1,p[1]]\n",
    "    if pr[1]>=0 and pr[1]<=n and pr[0]>=0 and pr[0]<=n and lab[pr[0]][pr[1]]==0 and pr not in visited:\n",
    "        vecinos.append(pr)\n",
    "    if pd[1]>=0 and pd[1]<=n and pd[0]>=0 and pd[0]<=n and lab[pd[0]][pd[1]]==0 and pd not in visited:\n",
    "        vecinos.append(pd)\n",
    "    if pl[1]>=0 and pl[1]<=n and pl[0]>=0 and pl[0]<=n and lab[pl[0]][pl[1]]==0 and pl not in visited:\n",
    "        vecinos.append(pl)\n",
    "    if pu[1]>=0 and pu[1]<=n and pu[0]>=0 and pu[0]<=n and lab[pu[0]][pu[1]]==0 and pu not in visited:\n",
    "        vecinos.append(pu)\n",
    "    \n",
    "    return vecinos"
   ]
  },
  {
   "cell_type": "code",
   "execution_count": 4,
   "id": "65a6ccf9",
   "metadata": {},
   "outputs": [
    {
     "name": "stdout",
     "output_type": "stream",
     "text": [
      "[0, 0, 0]\n",
      "[1, 1, 0]\n",
      "[1, 1, 0]\n",
      "[0, 0, 0, 0]\n",
      "[1, 1, 1, 0]\n",
      "[0, 0, 1, 0]\n",
      "[0, 0, 0, 0]\n",
      "[0, 0, 0, 0, 0]\n",
      "[1, 1, 1, 1, 0]\n",
      "[0, 0, 1, 1, 0]\n",
      "[0, 0, 1, 1, 0]\n",
      "[0, 0, 0, 0, 0]\n",
      "[0, 0, 0, 0, 0, 0]\n",
      "[1, 1, 1, 1, 1, 0]\n",
      "[0, 0, 1, 0, 1, 0]\n",
      "[0, 0, 1, 0, 1, 0]\n",
      "[0, 0, 0, 0, 1, 0]\n",
      "[0, 0, 0, 0, 0, 0]\n",
      "[0, 0, 0, 0, 0, 0, 0]\n",
      "[1, 1, 1, 1, 1, 1, 0]\n",
      "[0, 0, 1, 0, 0, 1, 0]\n",
      "[0, 0, 1, 0, 0, 1, 0]\n",
      "[0, 0, 0, 0, 0, 1, 0]\n",
      "[0, 0, 0, 0, 0, 1, 0]\n",
      "[0, 0, 0, 0, 0, 0, 0]\n"
     ]
    }
   ],
   "source": [
    "lab3=[[0,0,0],[1,1,0],[1,1,0]]\n",
    "lab4=[[0,0,0,0],[1,1,1,0],[0,0,1,0],[0,0,0,0]]\n",
    "lab5=[[0,0,0,0,0],[1,1,1,1,0],[0,0,1,1,0],[0,0,1,1,0],[0,0,0,0,0]]\n",
    "lab6=[[0,0,0,0,0,0],[1,1,1,1,1,0],[0,0,1,0,1,0],[0,0,1,0,1,0],[0,0,0,0,1,0],[0,0,0,0,0,0]]\n",
    "lab7=[[0,0,0,0,0,0,0],[1,1,1,1,1,1,0],[0,0,1,0,0,1,0],[0,0,1,0,0,1,0],[0,0,0,0,0,1,0],[0,0,0,0,0,1,0],[0,0,0,0,0,0,0]]\n",
    "lab8=[[0,0,0,0,0,0,0,0],[1,1,1,1,1,1,1,0],[0,0,0,1,0,0,1,0],[0,0,0,1,0,0,1,0],[0,0,0,0,0,0,1,0],[0,0,0,0,0,0,1,0],[0,0,0,0,0,0,1,0],[0,0,0,0,0,0,1,0]]\n",
    "lab=[lab3,lab4,lab5,lab6,lab7,lab8]\n",
    "for i in range(5):\n",
    "    for j in range(i+3):\n",
    "        print(lab[i][j])"
   ]
  },
  {
   "cell_type": "code",
   "execution_count": 5,
   "id": "ed9e3b87",
   "metadata": {},
   "outputs": [],
   "source": [
    "def anch(lab,p):\n",
    "    n=len(lab[0])-1\n",
    "    f=[]\n",
    "    cerrados=[]\n",
    "    abiertos=[p]\n",
    "    caminos=[[p]]\n",
    "    while abiertos!=[]:\n",
    "        #print(1,'cerrados=',cerrados,'abiertos=',abiertos,'caminos=',caminos)\n",
    "        x=abiertos[0]\n",
    "        cam=caminos[0]\n",
    "        for v in vecinos(lab,x,cam,n):\n",
    "            abiertos.append(v)\n",
    "            r=[]\n",
    "            r.extend(cam)\n",
    "            r.append(v)\n",
    "            caminos.append(r)\n",
    "            #print(2,'cerrados=',cerrados,'abiertos=',abiertos,'v=',v,'r=',r,'cam=',cam,'caminos=',caminos)\n",
    "        cerrados.append(x)\n",
    "        abiertos.remove(x)\n",
    "        if abiertos!=[]:\n",
    "            caminos.remove(cam)\n",
    "        #print(3,'cam=',cam,'cerrados=',cerrados,'abiertos=',abiertos,'caminos=',caminos)\n",
    "        for c in caminos:\n",
    "            if c[-1]==[n,n] and c not in f:\n",
    "                f.append(c)\n",
    "    return f"
   ]
  },
  {
   "cell_type": "code",
   "execution_count": 18,
   "id": "120d1d5f",
   "metadata": {},
   "outputs": [
    {
     "name": "stdout",
     "output_type": "stream",
     "text": [
      "[0.0001156999999693653, 3.6055999953532594e-05, 0.00030583000005208306, 0.0009235800000533345, 2.7241649820000204]\n"
     ]
    }
   ],
   "source": [
    "import timeit\n",
    "tm=[[],[],[],[],[],[],[],[],[],[],[],[],[],[],[],[],[],[],[],[]]\n",
    "for n in range(50):\n",
    "    t=[]\n",
    "    for i in range(5):\n",
    "        t1=timeit.default_timer()\n",
    "        anch(lab[i],[0,0])\n",
    "        t2=timeit.default_timer()\n",
    "        tm[i].append(t2-t1)\n",
    "s=[]\n",
    "for n in range(5):\n",
    "    q=sum(tm[n])/len(tm[n])\n",
    "    s.append(q)\n",
    "print(s)"
   ]
  },
  {
   "cell_type": "code",
   "execution_count": 40,
   "id": "d302944e",
   "metadata": {},
   "outputs": [
    {
     "data": {
      "image/png": "[encoded data removed]",
      "text/plain": [
       "<Figure size 504x266.4 with 1 Axes>"
      ]
     },
     "metadata": {
      "needs_background": "light"
     },
     "output_type": "display_data"
    }
   ],
   "source": [
    "import matplotlib.pyplot as plt\n",
    "tf=['b',[1.3191999999619952e-05, 4.124400000044659e-05, 8.89259999991765e-05, 0.000952276000000083, 0.539266077, 4.483899999996765e-05],'m',[0.00011923400001705885, 0.0031560420000096203, 0.005138311000000613, 0.060352738999986284, 2.8327079820000245],'w50',[0.00027894599999939374, 0.09676818199999815]]\n",
    "best=tf[1]\n",
    "medium=tf[3]\n",
    "worst=tf[5]\n",
    "plt.figure(figsize=(7, 3.7))\n",
    "p1=plt.plot([3, 4, 5, 6, 7, 8], best, 'go', label='Mejor')\n",
    "p2=plt.plot([3, 4, 5, 6, 7], medium, 'bo', label='Medio')\n",
    "p3=plt.plot([3, 4], worst, 'ro', label='Peor')\n",
    "plt.axis()\n",
    "plt.ylabel('Coste temporal en s')\n",
    "plt.xlabel('Tamaño de laberinto (nxn) en funcion de n')\n",
    "plt.legend()\n",
    "plt.show([p1,p2,p3])"
   ]
  },
  {
   "cell_type": "code",
   "execution_count": null,
   "id": "2bd0f491",
   "metadata": {},
   "outputs": [],
   "source": [
    "import timeit\n",
    "tm=[[],[],[],[],[],[],[],[],[],[],[],[],[],[],[],[],[],[],[],[]]\n",
    "for n in range(1):\n",
    "    t=[]\n",
    "    for i in range(3):\n",
    "        t1=timeit.default_timer()\n",
    "        anch(lab[i],[0,0])\n",
    "        t2=timeit.default_timer()\n",
    "        tm[i].append(t2-t1)\n",
    "s=[]\n",
    "for n in range(6):\n",
    "    q=sum(tm[n])/len(tm[n])\n",
    "    s.append(q)\n",
    "print(s)"
   ]
  },
  {
   "cell_type": "code",
   "execution_count": 14,
   "id": "22c05e2d",
   "metadata": {
    "scrolled": true
   },
   "outputs": [
    {
     "name": "stdout",
     "output_type": "stream",
     "text": [
      "[0, 0, 0]\n",
      "[0, 0, 0]\n",
      "[1, 0, 0]\n",
      "[0, 0, 0, 0]\n",
      "[0, 1, 0, 1]\n",
      "[0, 1, 0, 0]\n",
      "[0, 1, 0, 0]\n",
      "[0, 0, 0, 0, 1]\n",
      "[0, 1, 0, 0, 0]\n",
      "[0, 0, 1, 0, 0]\n",
      "[0, 1, 1, 1, 0]\n",
      "[0, 0, 0, 0, 0]\n",
      "[0, 0, 0, 0, 0, 0]\n",
      "[0, 1, 0, 0, 1, 0]\n",
      "[0, 1, 0, 0, 1, 0]\n",
      "[0, 1, 1, 0, 0, 0]\n",
      "[0, 1, 1, 1, 1, 0]\n",
      "[0, 0, 0, 0, 0, 0]\n",
      "[0, 0, 0, 0, 0, 0, 0]\n",
      "[0, 0, 0, 0, 0, 1, 0]\n",
      "[0, 0, 0, 0, 0, 1, 0]\n",
      "[0, 0, 1, 1, 0, 1, 0]\n",
      "[0, 1, 0, 1, 0, 0, 0]\n",
      "[0, 1, 1, 1, 1, 1, 0]\n",
      "[0, 0, 0, 0, 0, 0, 0]\n",
      "[0, 0, 0, 0, 0, 0, 0, 0]\n",
      "[0, 0, 0, 0, 0, 0, 0, 0]\n",
      "[0, 0, 0, 0, 0, 0, 0, 0]\n",
      "[0, 0, 0, 0, 0, 0, 0, 0]\n",
      "[0, 1, 1, 1, 1, 1, 1, 0]\n",
      "[0, 1, 1, 1, 1, 1, 1, 0]\n",
      "[0, 1, 1, 1, 1, 1, 1, 0]\n",
      "[0, 0, 0, 0, 0, 0, 0, 0]\n"
     ]
    }
   ],
   "source": [
    "lab3=[[0,0,0],[0,0,0],[1,0,0]]\n",
    "lab4=[[0,0,0,0],[0,1,0,1],[0,1,0,0],[0,1,0,0]]\n",
    "lab5=[[0,0,0,0,1],[0,1,0,0,0],[0,0,1,0,0],[0,1,1,1,0],[0,0,0,0,0]]\n",
    "lab6=[[0,0,0,0,0,0],[0,1,0,0,1,0],[0,1,0,0,1,0],[0,1,1,0,0,0],[0,1,1,1,1,0],[0,0,0,0,0,0]]\n",
    "lab7=[[0,0,0,0,0,0,0],[0,0,0,0,0,1,0],[0,0,0,0,0,1,0],[0,0,1,1,0,1,0],[0,1,0,1,0,0,0],[0,1,1,1,1,1,0],[0,0,0,0,0,0,0]]\n",
    "lab8=[[0,0,0,0,0,0,0,0],[0,0,0,0,0,0,0,0],[0,0,0,0,0,0,0,0],[0,0,0,0,0,0,0,0],[0,1,1,1,1,1,1,0],[0,1,1,1,1,1,1,0],[0,1,1,1,1,1,1,0],[0,0,0,0,0,0,0,0]]\n",
    "lab=[lab3,lab4,lab5,lab6,lab7,lab8]\n",
    "for i in range(6):\n",
    "    for j in range(i+3):\n",
    "        print(lab[i][j])"
   ]
  },
  {
   "cell_type": "code",
   "execution_count": 6,
   "id": "3b3a193b",
   "metadata": {
    "scrolled": true
   },
   "outputs": [
    {
     "name": "stdout",
     "output_type": "stream",
     "text": [
      "[0, 0, 0]\n",
      "[0, 0, 0]\n",
      "[0, 0, 0]\n",
      "[0, 0, 0, 0]\n",
      "[0, 0, 0, 0]\n",
      "[0, 0, 0, 0]\n",
      "[0, 0, 0, 0]\n",
      "[0, 0, 0, 0, 0]\n",
      "[0, 0, 0, 0, 0]\n",
      "[0, 0, 0, 0, 0]\n",
      "[0, 0, 0, 0, 0]\n",
      "[0, 0, 0, 0, 0]\n",
      "[0, 0, 0, 0, 0, 0]\n",
      "[0, 0, 0, 0, 0, 0]\n",
      "[0, 0, 0, 0, 0, 0]\n",
      "[0, 0, 0, 0, 0, 0]\n",
      "[0, 0, 0, 0, 0, 0]\n",
      "[0, 0, 0, 0, 0, 0]\n",
      "[0, 0, 0, 0, 0, 0, 0]\n",
      "[0, 0, 0, 0, 0, 0, 0]\n",
      "[0, 0, 0, 0, 0, 0, 0]\n",
      "[0, 0, 0, 0, 0, 0, 0]\n",
      "[0, 0, 0, 0, 0, 0, 0]\n",
      "[0, 0, 0, 0, 0, 0, 0]\n",
      "[0, 0, 0, 0, 0, 0, 0]\n",
      "[0, 0, 0, 0, 0, 0, 0, 0]\n",
      "[0, 0, 0, 0, 0, 0, 0, 0]\n",
      "[0, 0, 0, 0, 0, 0, 0, 0]\n",
      "[0, 0, 0, 0, 0, 0, 0, 0]\n",
      "[0, 0, 0, 0, 0, 0, 0, 0]\n",
      "[0, 0, 0, 0, 0, 0, 0, 0]\n",
      "[0, 0, 0, 0, 0, 0, 0, 0]\n",
      "[0, 0, 0, 0, 0, 0, 0, 0]\n"
     ]
    }
   ],
   "source": [
    "lab3=[[0,0,0],[0,0,0],[0,0,0]]\n",
    "lab4=[[0,0,0,0],[0,0,0,0],[0,0,0,0],[0,0,0,0]]\n",
    "lab5=[[0,0,0,0,0],[0,0,0,0,0],[0,0,0,0,0],[0,0,0,0,0],[0,0,0,0,0]]\n",
    "lab6=[[0,0,0,0,0,0],[0,0,0,0,0,0],[0,0,0,0,0,0],[0,0,0,0,0,0],[0,0,0,0,0,0],[0,0,0,0,0,0]]\n",
    "lab7=[[0,0,0,0,0,0,0],[0,0,0,0,0,0,0],[0,0,0,0,0,0,0],[0,0,0,0,0,0,0],[0,0,0,0,0,0,0],[0,0,0,0,0,0,0],[0,0,0,0,0,0,0]]\n",
    "lab8=[[0,0,0,0,0,0,0,0],[0,0,0,0,0,0,0,0],[0,0,0,0,0,0,0,0],[0,0,0,0,0,0,0,0],[0,0,0,0,0,0,0,0],[0,0,0,0,0,0,0,0],[0,0,0,0,0,0,0,0],[0,0,0,0,0,0,0,0]]\n",
    "lab=[lab3,lab4,lab5,lab6,lab7,lab8]\n",
    "for i in range(6):\n",
    "    for j in range(len(lab[i])):\n",
    "        print(lab[i][j])"
   ]
  },
  {
   "cell_type": "code",
   "execution_count": null,
   "id": "02d3b2f6",
   "metadata": {},
   "outputs": [],
   "source": []
  }
 ],
 "metadata": {
  "kernelspec": {
   "display_name": "Python 3 (ipykernel)",
   "language": "python",
   "name": "python3"
  },
  "language_info": {
   "codemirror_mode": {
    "name": "ipython",
    "version": 3
   },
   "file_extension": ".py",
   "mimetype": "text/x-python",
   "name": "python",
   "nbconvert_exporter": "python",
   "pygments_lexer": "ipython3",
   "version": "3.9.7"
  }
 },
 "nbformat": 4,
 "nbformat_minor": 5
}
