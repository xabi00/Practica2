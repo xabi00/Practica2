{
 "cells": [
  {
   "cell_type": "code",
   "execution_count": 4,
   "id": "da983e7e",
   "metadata": {},
   "outputs": [
    {
     "data": {
      "text/plain": [
       "True"
      ]
     },
     "execution_count": 4,
     "metadata": {},
     "output_type": "execute_result"
    }
   ],
   "source": [
    "def valid(lab,x,y,path):\n",
    "     return 0 <= x < len(lab[0]) and 0 <= y < len(lab[0]) and [x,y] not in path and (lab[x][y]==0 or lab[x][y]=='G')\n",
    "valid(lab6,5,0,[])"
   ]
  },
  {
   "cell_type": "code",
   "execution_count": 5,
   "id": "52281e2e",
   "metadata": {},
   "outputs": [
    {
     "name": "stdout",
     "output_type": "stream",
     "text": [
      "0\n"
     ]
    }
   ],
   "source": [
    "def vecino(lab,p,path,n):\n",
    "    vecinos=[]\n",
    "    pr=[p[0],p[1]+1]\n",
    "    pl=[p[0],p[1]-1]\n",
    "    pu=[p[0]-1,p[1]]\n",
    "    pd=[p[0]+1,p[1]]\n",
    "    if pr[1]>=0 and pr[1]<=n and pr[0]>=0 and pr[0]<=n and lab[pr[0]][pr[1]]==0 and pr not in path:\n",
    "        vecinos.append(pr)\n",
    "    if pd[1]>=0 and pd[1]<=n and pd[0]>=0 and pd[0]<=n and lab[pd[0]][pd[1]]==0 and pd not in path:\n",
    "        vecinos.append(pd)\n",
    "    if pl[1]>=0 and pl[1]<=n and pl[0]>=0 and pl[0]<=n and lab[pl[0]][pl[1]]==0 and pl not in path:\n",
    "        vecinos.append(pl)\n",
    "    if pu[1]>=0 and pu[1]<=n and pu[0]>=0 and pu[0]<=n and lab[pu[0]][pu[1]]==0 and pu not in path:\n",
    "        vecinos.append(pu)\n",
    "    \n",
    "    return vecinos\n",
    "print(lab[3][5][0])"
   ]
  },
  {
   "cell_type": "code",
   "execution_count": 27,
   "id": "65a6ccf9",
   "metadata": {
    "scrolled": true
   },
   "outputs": [
    {
     "name": "stdout",
     "output_type": "stream",
     "text": [
      "[0, 0, 0]\n",
      "[0, 0, 0]\n",
      "[0, 0, 0]\n",
      "[0, 0, 0, 0]\n",
      "[0, 0, 0, 0]\n",
      "[0, 0, 0, 0]\n",
      "[0, 0, 0, 0]\n",
      "[0, 0, 0, 0, 0]\n",
      "[0, 0, 0, 0, 0]\n",
      "[0, 0, 0, 0, 0]\n",
      "[0, 0, 0, 0, 0]\n",
      "[0, 0, 0, 0, 0]\n",
      "[0, 0, 0, 0, 0, 0]\n",
      "[0, 0, 0, 0, 0, 0]\n",
      "[0, 0, 0, 0, 0, 0]\n",
      "[0, 0, 0, 0, 0, 0]\n",
      "[0, 0, 0, 0, 0, 0]\n",
      "[0, 0, 0, 0, 0, 0]\n",
      "[0, 0, 0, 0, 0, 0, 0]\n",
      "[0, 0, 0, 0, 0, 0, 0]\n",
      "[0, 0, 0, 0, 0, 0, 0]\n",
      "[0, 0, 0, 0, 0, 0, 0]\n",
      "[0, 0, 0, 0, 0, 0, 0]\n",
      "[0, 0, 0, 0, 0, 0, 0]\n",
      "[0, 0, 0, 0, 0, 0, 0]\n",
      "[0, 0, 0, 0, 0, 0, 0, 0]\n",
      "[0, 0, 0, 0, 0, 0, 0, 0]\n",
      "[0, 0, 0, 0, 0, 0, 0, 0]\n",
      "[0, 0, 0, 0, 0, 0, 0, 0]\n",
      "[0, 0, 0, 0, 0, 0, 0, 0]\n",
      "[0, 0, 0, 0, 0, 0, 0, 0]\n",
      "[0, 0, 0, 0, 0, 0, 0, 0]\n",
      "[0, 0, 0, 0, 0, 0, 0, 0]\n"
     ]
    }
   ],
   "source": [
    "lab3=[[0,0,0],[0,0,0],[0,0,0]]\n",
    "lab4=[[0,0,0,0],[0,0,0,0],[0,0,0,0],[0,0,0,0]]\n",
    "lab5=[[0,0,0,0,0],[0,0,0,0,0],[0,0,0,0,0],[0,0,0,0,0],[0,0,0,0,0]]\n",
    "lab6=[[0,0,0,0,0,0],[0,0,0,0,0,0],[0,0,0,0,0,0],[0,0,0,0,0,0],[0,0,0,0,0,0],[0,0,0,0,0,0]]\n",
    "lab7=[[0,0,0,0,0,0,0],[0,0,0,0,0,0,0],[0,0,0,0,0,0,0],[0,0,0,0,0,0,0],[0,0,0,0,0,0,0],[0,0,0,0,0,0,0],[0,0,0,0,0,0,0]]\n",
    "lab8=[[0,0,0,0,0,0,0,0],[0,0,0,0,0,0,0,0],[0,0,0,0,0,0,0,0],[0,0,0,0,0,0,0,0],[0,0,0,0,0,0,0,0],[0,0,0,0,0,0,0,0],[0,0,0,0,0,0,0,0],[0,0,0,0,0,0,0,0]]\n",
    "lab=[lab3,lab4,lab5,lab6,lab7,lab8]\n",
    "for i in range(6):\n",
    "    for j in range(len(lab[i])):\n",
    "        print(lab[i][j])\n"
   ]
  },
  {
   "cell_type": "code",
   "execution_count": 6,
   "id": "ed9e3b87",
   "metadata": {},
   "outputs": [],
   "source": [
    "def backd(lab,p,visited,path):\n",
    "    n=len(lab[0])-1\n",
    "    sol=[]\n",
    "    if vecino(lab,p,path,n)==[] or p==[n,n]:\n",
    "        if valid(lab,p[0],p[1],path):\n",
    "            if p==[n,n]:\n",
    "                path.append(p)\n",
    "                sol.extend(path)\n",
    "                #print('gg','sol=',sol,'visited=',visited,'path=',path)\n",
    "            else:\n",
    "                visited.pop()\n",
    "                path.append(p)\n",
    "    else:\n",
    "        visited.append(p)\n",
    "        path.append(p)\n",
    "        #print(1,'p=',p,'vecinos=',vecino(lab,p,path,n),'visited=',visited,'path=',path)\n",
    "        for v in vecino(lab,p,path,n):\n",
    "            #print(2,'v=',v,'sol=',sol,'path=',path)\n",
    "            if valid(lab,v[0],v[1],path):\n",
    "                sol.extend(backd(lab,v,visited,path))\n",
    "                if path!=[]:\n",
    "                    path.pop()\n",
    "                #print(3,'v=',v,'sol=',sol,'path=',path)\n",
    "    return sol"
   ]
  },
  {
   "cell_type": "code",
   "execution_count": 7,
   "id": "120d1d5f",
   "metadata": {
    "scrolled": false
   },
   "outputs": [],
   "source": [
    "def tback(lab,p,visited,path):\n",
    "    f=[]\n",
    "    l=[]\n",
    "    n=len(lab[0])-1\n",
    "    p=backd(lab,p,visited,path)\n",
    "    for i in range(0,len(p)):\n",
    "        if p[i]==[n,n]:\n",
    "            l.append(p[i])\n",
    "            if l not in f:\n",
    "                f.append(l)\n",
    "            l=[]\n",
    "        else:\n",
    "            l.append(p[i])\n",
    "    return f"
   ]
  },
  {
   "cell_type": "code",
   "execution_count": 19,
   "id": "03bf8779",
   "metadata": {
    "scrolled": true
   },
   "outputs": [
    {
     "name": "stdout",
     "output_type": "stream",
     "text": [
      "[0, 0, 0, 0, 0, 0]\n",
      "[0, 0, 0, 0, 0, 0]\n",
      "[0, 0, 0, 0, 0, 0]\n",
      "[0, 0, 0, 0, 0, 0]\n",
      "[0, 0, 0, 0, 0, 0]\n",
      "[0, 0, 0, 0, 0, 0]\n"
     ]
    }
   ],
   "source": [
    "for i in range(6):\n",
    "        print(lab6[i])\n",
    "        "
   ]
  },
  {
   "cell_type": "code",
   "execution_count": 45,
   "id": "25fd0736",
   "metadata": {},
   "outputs": [
    {
     "name": "stdout",
     "output_type": "stream",
     "text": [
      "[0.00011092000013377402, 0.0012668000000303436, 0.0018927499998426355, 0.007673980000072333, 0.04682689000010214]\n"
     ]
    }
   ],
   "source": [
    "import timeit\n",
    "tm=[[],[],[],[],[],[],[],[],[],[],[],[],[],[],[],[],[],[],[],[]]\n",
    "for n in range(10):\n",
    "    t=[]\n",
    "    for i in range(5):\n",
    "        t1=timeit.default_timer()\n",
    "        backd(lab[i],[0,0],[],[])\n",
    "        t2=timeit.default_timer()\n",
    "        tm[i].append(t2-t1)\n",
    "s=[]\n",
    "for n in range(5):\n",
    "    q=sum(tm[n])/len(tm[n])\n",
    "    s.append(q)\n",
    "print(s)"
   ]
  },
  {
   "cell_type": "code",
   "execution_count": 41,
   "id": "1b42d75a",
   "metadata": {},
   "outputs": [
    {
     "data": {
      "text/plain": [
       "[[[0, 0], [0, 1], [0, 2], [0, 3], [1, 3], [1, 4], [2, 4], [3, 4], [4, 4]],\n",
       " [[0, 0], [0, 1], [0, 2], [0, 3], [1, 3], [2, 3], [2, 4], [3, 4], [4, 4]],\n",
       " [[0, 0], [0, 1], [0, 2], [1, 2], [1, 3], [1, 4], [2, 4], [3, 4], [4, 4]],\n",
       " [[0, 0], [0, 1], [0, 2], [1, 2], [1, 3], [2, 3], [2, 4], [3, 4], [4, 4]],\n",
       " [[0, 0], [1, 0], [2, 0], [3, 0], [4, 0], [4, 1], [4, 2], [4, 3], [4, 4]]]"
      ]
     },
     "execution_count": 41,
     "metadata": {},
     "output_type": "execute_result"
    }
   ],
   "source": [
    "tback(lab5,[0,0],[],[])"
   ]
  },
  {
   "cell_type": "code",
   "execution_count": 15,
   "id": "1155fa88",
   "metadata": {},
   "outputs": [
    {
     "data": {
      "image/png": "[encoded data removed]",
      "text/plain": [
       "<Figure size 504x266.4 with 1 Axes>"
      ]
     },
     "metadata": {
      "needs_background": "light"
     },
     "output_type": "display_data"
    }
   ],
   "source": [
    "import matplotlib.pyplot as plt\n",
    "tf=['b200',[1.8979999940711422e-05, 2.701600000364124e-05, 3.743299996585847e-05, 4.638600001271698e-05, 5.80790000185516e-05, 6.964199999856646e-05],'m10',[0.00011092000013377402, 0.0012668000000303436, 0.0018927499998426355, 0.007673980000072333, 0.04682689000010214],'w',[0.0002007000002777204, 0.00722330000007787, 0.4806821000001946, 124.9573989999999]]\n",
    "best=tf[1]\n",
    "medium=tf[3]\n",
    "worst=tf[5]\n",
    "plt.figure(figsize=(7, 3.7))\n",
    "p1=plt.plot([3, 4, 5, 6, 7, 8], best, 'go', label='Mejor')\n",
    "p2=plt.plot([3, 4, 5, 6, 7], medium, 'bo', label='Medio')\n",
    "p3=plt.plot([3, 4, 5, 6], worst, 'ro', label='Peor')\n",
    "plt.axis()\n",
    "plt.ylabel('Coste temporal en s')\n",
    "plt.xlabel('Tamaño de laberinto (nxn) en funcion de n')\n",
    "plt.legend()\n",
    "plt.show([p1,p2,p3])"
   ]
  },
  {
   "cell_type": "code",
   "execution_count": 33,
   "id": "558c5083",
   "metadata": {
    "scrolled": true
   },
   "outputs": [
    {
     "name": "stdout",
     "output_type": "stream",
     "text": [
      "[0, 0, 0]\n",
      "[1, 1, 0]\n",
      "[1, 1, 0]\n",
      "[0, 0, 0, 1]\n",
      "[0, 1, 0, 0]\n",
      "[0, 0, 1, 0]\n",
      "[0, 0, 0, 0]\n",
      "[0, 0, 0, 0, 0]\n",
      "[1, 1, 1, 1, 0]\n",
      "[0, 0, 1, 1, 0]\n",
      "[0, 0, 1, 1, 0]\n",
      "[0, 0, 0, 0, 0]\n",
      "[0, 0, 0, 0, 0, 0]\n",
      "[1, 1, 1, 1, 1, 0]\n",
      "[0, 0, 1, 0, 1, 0]\n",
      "[0, 0, 1, 0, 1, 0]\n",
      "[0, 0, 0, 0, 1, 0]\n",
      "[0, 0, 0, 0, 0, 0]\n",
      "[0, 0, 0, 0, 0, 0, 0]\n",
      "[1, 1, 1, 1, 1, 1, 0]\n",
      "[0, 0, 1, 0, 0, 1, 0]\n",
      "[0, 0, 1, 0, 0, 1, 0]\n",
      "[0, 0, 0, 0, 0, 1, 0]\n",
      "[0, 0, 0, 0, 0, 1, 0]\n",
      "[0, 0, 0, 0, 0, 0, 0]\n",
      "[0, 0, 0, 0, 0, 0, 0, 0]\n",
      "[1, 1, 1, 1, 1, 1, 1, 0]\n",
      "[0, 0, 0, 1, 0, 0, 1, 0]\n",
      "[0, 0, 0, 1, 0, 0, 1, 0]\n",
      "[0, 0, 0, 0, 0, 0, 1, 0]\n",
      "[0, 0, 0, 0, 0, 0, 1, 0]\n",
      "[0, 0, 0, 0, 0, 0, 1, 0]\n",
      "[0, 0, 0, 0, 0, 0, 1, 0]\n"
     ]
    }
   ],
   "source": [
    "lab3=[[0,0,0],[1,1,0],[1,1,0]]\n",
    "lab4=[[0,0,0,1],[0,1,0,0],[0,0,1,0],[0,0,0,0]]\n",
    "lab5=[[0,0,0,0,0],[1,1,1,1,0],[0,0,1,1,0],[0,0,1,1,0],[0,0,0,0,0]]\n",
    "lab6=[[0,0,0,0,0,0],[1,1,1,1,1,0],[0,0,1,0,1,0],[0,0,1,0,1,0],[0,0,0,0,1,0],[0,0,0,0,0,0]]\n",
    "lab7=[[0,0,0,0,0,0,0],[1,1,1,1,1,1,0],[0,0,1,0,0,1,0],[0,0,1,0,0,1,0],[0,0,0,0,0,1,0],[0,0,0,0,0,1,0],[0,0,0,0,0,0,0]]\n",
    "lab8=[[0,0,0,0,0,0,0,0],[1,1,1,1,1,1,1,0],[0,0,0,1,0,0,1,0],[0,0,0,1,0,0,1,0],[0,0,0,0,0,0,1,0],[0,0,0,0,0,0,1,0],[0,0,0,0,0,0,1,0],[0,0,0,0,0,0,1,0]]\n",
    "lab=[lab3,lab4,lab5,lab6,lab7,lab8]\n",
    "for i in range(6):\n",
    "    for j in range(i+3):\n",
    "        print(lab[i][j])"
   ]
  },
  {
   "cell_type": "code",
   "execution_count": 40,
   "id": "00f6b67b",
   "metadata": {},
   "outputs": [
    {
     "name": "stdout",
     "output_type": "stream",
     "text": [
      "[0, 0, 0]\n",
      "[0, 0, 0]\n",
      "[1, 0, 0]\n",
      "[0, 0, 0, 0]\n",
      "[0, 1, 0, 1]\n",
      "[0, 1, 0, 0]\n",
      "[0, 1, 0, 0]\n",
      "[0, 0, 0, 0, 1]\n",
      "[0, 1, 0, 0, 0]\n",
      "[0, 0, 1, 0, 0]\n",
      "[0, 1, 1, 1, 0]\n",
      "[0, 0, 0, 0, 0]\n",
      "[0, 0, 0, 0, 0, 0]\n",
      "[0, 0, 0, 0, 1, 0]\n",
      "[0, 0, 0, 0, 1, 0]\n",
      "[0, 1, 1, 0, 0, 0]\n",
      "[0, 1, 1, 1, 1, 0]\n",
      "[0, 0, 0, 0, 0, 0]\n",
      "[0, 0, 0, 0, 0, 0, 0]\n",
      "[0, 0, 0, 0, 0, 1, 0]\n",
      "[0, 0, 0, 0, 0, 1, 0]\n",
      "[0, 0, 1, 1, 0, 1, 0]\n",
      "[0, 1, 0, 1, 0, 0, 0]\n",
      "[0, 1, 1, 1, 1, 1, 0]\n",
      "[0, 0, 0, 0, 0, 0, 0]\n",
      "[0, 0, 0, 0, 0, 0, 0, 0]\n",
      "[0, 0, 0, 0, 0, 0, 0, 0]\n",
      "[0, 0, 0, 0, 0, 0, 0, 0]\n",
      "[0, 0, 0, 0, 0, 0, 0, 0]\n",
      "[0, 1, 1, 1, 1, 1, 1, 0]\n",
      "[0, 1, 1, 1, 1, 1, 1, 0]\n",
      "[0, 1, 1, 1, 1, 1, 1, 0]\n",
      "[0, 0, 0, 0, 0, 0, 0, 0]\n"
     ]
    }
   ],
   "source": [
    "lab3=[[0,0,0],[0,0,0],[1,0,0]]\n",
    "lab4=[[0,0,0,0],[0,1,0,1],[0,1,0,0],[0,1,0,0]]\n",
    "lab5=[[0,0,0,0,1],[0,1,0,0,0],[0,0,1,0,0],[0,1,1,1,0],[0,0,0,0,0]]\n",
    "lab6=[[0,0,0,0,0,0],[0,0,0,0,1,0],[0,0,0,0,1,0],[0,1,1,0,0,0],[0,1,1,1,1,0],[0,0,0,0,0,0]]\n",
    "lab7=[[0,0,0,0,0,0,0],[0,0,0,0,0,1,0],[0,0,0,0,0,1,0],[0,0,1,1,0,1,0],[0,1,0,1,0,0,0],[0,1,1,1,1,1,0],[0,0,0,0,0,0,0]]\n",
    "lab8=[[0,0,0,0,0,0,0,0],[0,0,0,0,0,0,0,0],[0,0,0,0,0,0,0,0],[0,0,0,0,0,0,0,0],[0,1,1,1,1,1,1,0],[0,1,1,1,1,1,1,0],[0,1,1,1,1,1,1,0],[0,0,0,0,0,0,0,0]]\n",
    "lab=[lab3,lab4,lab5,lab6,lab7,lab8]\n",
    "for i in range(6):\n",
    "    for j in range(i+3):\n",
    "        print(lab[i][j])"
   ]
  },
  {
   "cell_type": "code",
   "execution_count": null,
   "id": "cf222be1",
   "metadata": {},
   "outputs": [],
   "source": []
  }
 ],
 "metadata": {
  "kernelspec": {
   "display_name": "Python 3 (ipykernel)",
   "language": "python",
   "name": "python3"
  },
  "language_info": {
   "codemirror_mode": {
    "name": "ipython",
    "version": 3
   },
   "file_extension": ".py",
   "mimetype": "text/x-python",
   "name": "python",
   "nbconvert_exporter": "python",
   "pygments_lexer": "ipython3",
   "version": "3.9.7"
  }
 },
 "nbformat": 4,
 "nbformat_minor": 5
}
